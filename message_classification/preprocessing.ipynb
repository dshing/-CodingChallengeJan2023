{
 "cells": [
  {
   "cell_type": "markdown",
   "metadata": {},
   "source": [
    "## Quick note about Jupyter cells"
   ]
  },
  {
   "cell_type": "markdown",
   "metadata": {},
   "source": [
    "When you are editing a cell in Jupyter notebook, you need to re-run the cell by pressing `<Shift> + <Enter>`. This will allow changes you made to be available to other cells.\n",
    "\n",
    "Use `<Enter>` to make new lines inside a cell you are editing.\n",
    "\n",
    "### Code cells\n",
    "Re-running will execute any statements you have written. To edit an existing code cell, click on it.\n",
    "\n",
    "### Markdown cells\n",
    "Re-running will render the markdown text. To edit an existing markdown cell, double-click on it.\n",
    "\n",
    "\n",
    "### Common Jupyter operations\n",
    "\n",
    "**Inserting and removing cells**\n",
    "\n",
    "Use the \"plus sign\" icon to insert a cell below the currently selected cell\n",
    "Use \"Insert\" -> \"Insert Cell Above\" from the menu to insert above\n",
    "\n",
    "**Clear the output of all cells**\n",
    "\n",
    "Use \"Kernel\" -> \"Restart\" from the menu to restart the kernel\n",
    "click on \"clear all outputs & restart\" to have all the output cleared\n",
    "\n",
    "**Show function signature**\n",
    "\n",
    "Start typing function and hit `<Shift> + <Tab>`"
   ]
  },
  {
   "cell_type": "markdown",
   "metadata": {},
   "source": [
    "# Preprocessing\n",
    "\n",
    "## import necessary libraries\n",
    "\n",
    "Import the following packages: `pandas as pd`, `csv`, `nltk` and `matplotlib.pyplot as plt`"
   ]
  },
  {
   "cell_type": "code",
   "execution_count": 1,
   "metadata": {},
   "outputs": [],
   "source": [
    "import pandas as pd\n",
    "import csv, nltk\n",
    "import matplotlib.pyplot as plt"
   ]
  },
  {
   "cell_type": "markdown",
   "metadata": {},
   "source": [
    "## load data\n",
    "\n",
    "As we have done the step of collecting some sample data for you already, you only have to load the data into a pandas dataframe using the method `pd.read_csv()`. Typing a variable name into a jupyter cell and running it, shows you the current content."
   ]
  },
  {
   "cell_type": "code",
   "execution_count": 2,
   "metadata": {},
   "outputs": [],
   "source": [
    "tweets = pd.read_csv(\"../message_classification/data/tweets/tweets.tsv\", sep=\"\\t\")\n",
    "tweets.columns = ['id', 'sentiment', 'md5', 'list', 'text']"
   ]
  },
  {
   "cell_type": "code",
   "execution_count": 3,
   "metadata": {},
   "outputs": [
    {
     "data": {
      "text/html": [
       "<div>\n",
       "<style scoped>\n",
       "    .dataframe tbody tr th:only-of-type {\n",
       "        vertical-align: middle;\n",
       "    }\n",
       "\n",
       "    .dataframe tbody tr th {\n",
       "        vertical-align: top;\n",
       "    }\n",
       "\n",
       "    .dataframe thead th {\n",
       "        text-align: right;\n",
       "    }\n",
       "</style>\n",
       "<table border=\"1\" class=\"dataframe\">\n",
       "  <thead>\n",
       "    <tr style=\"text-align: right;\">\n",
       "      <th></th>\n",
       "      <th>id</th>\n",
       "      <th>sentiment</th>\n",
       "      <th>md5</th>\n",
       "      <th>list</th>\n",
       "      <th>text</th>\n",
       "    </tr>\n",
       "  </thead>\n",
       "  <tbody>\n",
       "    <tr>\n",
       "      <th>0</th>\n",
       "      <td>364483696570945536</td>\n",
       "      <td>neutral</td>\n",
       "      <td>a6416685aa01bb28315ec81baa50639d</td>\n",
       "      <td>[]</td>\n",
       "      <td>Not Available</td>\n",
       "    </tr>\n",
       "    <tr>\n",
       "      <th>1</th>\n",
       "      <td>373606425379225600</td>\n",
       "      <td>positive</td>\n",
       "      <td>e9f93f030ab466d8aa624d1bfb33d31b</td>\n",
       "      <td>[]</td>\n",
       "      <td>Not Available</td>\n",
       "    </tr>\n",
       "    <tr>\n",
       "      <th>2</th>\n",
       "      <td>367189542857482240</td>\n",
       "      <td>neutral</td>\n",
       "      <td>c020aa23ff1f8ff985ce489b2b678674</td>\n",
       "      <td>[]</td>\n",
       "      <td>Tainted Talents (Ateliertagebuch.) » Wir sind ...</td>\n",
       "    </tr>\n",
       "    <tr>\n",
       "      <th>3</th>\n",
       "      <td>368327046574776321</td>\n",
       "      <td>neutral</td>\n",
       "      <td>0096b66e311fffcca65c23d2a310083b</td>\n",
       "      <td>[]</td>\n",
       "      <td>Aber wenigstens kommt #Supernatural heute mal ...</td>\n",
       "    </tr>\n",
       "    <tr>\n",
       "      <th>4</th>\n",
       "      <td>390690148188712960</td>\n",
       "      <td>positive</td>\n",
       "      <td>66ffcee70a34442d5e3df0b39e359d11</td>\n",
       "      <td>[]</td>\n",
       "      <td>Not Available</td>\n",
       "    </tr>\n",
       "    <tr>\n",
       "      <th>...</th>\n",
       "      <td>...</td>\n",
       "      <td>...</td>\n",
       "      <td>...</td>\n",
       "      <td>...</td>\n",
       "      <td>...</td>\n",
       "    </tr>\n",
       "    <tr>\n",
       "      <th>9933</th>\n",
       "      <td>373714852122202112</td>\n",
       "      <td>negative</td>\n",
       "      <td>d0c4b34c6db04a64d074d2e46c57df62</td>\n",
       "      <td>[]</td>\n",
       "      <td>@AstridSchiebs Okay. @DerAtrox Machse einfach!...</td>\n",
       "    </tr>\n",
       "    <tr>\n",
       "      <th>9934</th>\n",
       "      <td>376593709280034816</td>\n",
       "      <td>neutral</td>\n",
       "      <td>f3a201478826ba5b73ee0d70022a90a7</td>\n",
       "      <td>[]</td>\n",
       "      <td>Öffentliche Pfeifturmbegehung Führung um 11:30...</td>\n",
       "    </tr>\n",
       "    <tr>\n",
       "      <th>9935</th>\n",
       "      <td>377180450500136961</td>\n",
       "      <td>positive</td>\n",
       "      <td>2c0c0c7538e0695bf137126cfcb9fb77</td>\n",
       "      <td>[]</td>\n",
       "      <td>Not Available</td>\n",
       "    </tr>\n",
       "    <tr>\n",
       "      <th>9936</th>\n",
       "      <td>364054346767405056</td>\n",
       "      <td>positive</td>\n",
       "      <td>6b0352b5c96a7002897d5af3eb9a1c6f</td>\n",
       "      <td>[]</td>\n",
       "      <td>@FrauFlauschig Ich mag ihn auch echt gerne, ha...</td>\n",
       "    </tr>\n",
       "    <tr>\n",
       "      <th>9937</th>\n",
       "      <td>368408210463395840</td>\n",
       "      <td>negative</td>\n",
       "      <td>bb68f5a1cbf2e4283a0c0dbcfb1ff979</td>\n",
       "      <td>[]</td>\n",
       "      <td>Not Available</td>\n",
       "    </tr>\n",
       "  </tbody>\n",
       "</table>\n",
       "<p>9938 rows × 5 columns</p>\n",
       "</div>"
      ],
      "text/plain": [
       "                      id sentiment                               md5 list  \\\n",
       "0     364483696570945536   neutral  a6416685aa01bb28315ec81baa50639d   []   \n",
       "1     373606425379225600  positive  e9f93f030ab466d8aa624d1bfb33d31b   []   \n",
       "2     367189542857482240   neutral  c020aa23ff1f8ff985ce489b2b678674   []   \n",
       "3     368327046574776321   neutral  0096b66e311fffcca65c23d2a310083b   []   \n",
       "4     390690148188712960  positive  66ffcee70a34442d5e3df0b39e359d11   []   \n",
       "...                  ...       ...                               ...  ...   \n",
       "9933  373714852122202112  negative  d0c4b34c6db04a64d074d2e46c57df62   []   \n",
       "9934  376593709280034816   neutral  f3a201478826ba5b73ee0d70022a90a7   []   \n",
       "9935  377180450500136961  positive  2c0c0c7538e0695bf137126cfcb9fb77   []   \n",
       "9936  364054346767405056  positive  6b0352b5c96a7002897d5af3eb9a1c6f   []   \n",
       "9937  368408210463395840  negative  bb68f5a1cbf2e4283a0c0dbcfb1ff979   []   \n",
       "\n",
       "                                                   text  \n",
       "0                                         Not Available  \n",
       "1                                         Not Available  \n",
       "2     Tainted Talents (Ateliertagebuch.) » Wir sind ...  \n",
       "3     Aber wenigstens kommt #Supernatural heute mal ...  \n",
       "4                                         Not Available  \n",
       "...                                                 ...  \n",
       "9933  @AstridSchiebs Okay. @DerAtrox Machse einfach!...  \n",
       "9934  Öffentliche Pfeifturmbegehung Führung um 11:30...  \n",
       "9935                                      Not Available  \n",
       "9936  @FrauFlauschig Ich mag ihn auch echt gerne, ha...  \n",
       "9937                                      Not Available  \n",
       "\n",
       "[9938 rows x 5 columns]"
      ]
     },
     "execution_count": 3,
     "metadata": {},
     "output_type": "execute_result"
    }
   ],
   "source": [
    "tweets"
   ]
  },
  {
   "cell_type": "markdown",
   "metadata": {},
   "source": [
    "## inspect and clean data\n",
    "\n",
    "The dataset contains several entries of messages that have been deleted by the user after posting them, use pandas' `str.contains()` or any other method like `loc` to remove all rows that represent a message not accessibly anymore (\"Not Available\")."
   ]
  },
  {
   "cell_type": "code",
   "execution_count": 4,
   "metadata": {},
   "outputs": [],
   "source": [
    "tweets = tweets.drop(tweets[tweets['text'].str.contains(\"Not Available\")].index)"
   ]
  },
  {
   "cell_type": "code",
   "execution_count": 5,
   "metadata": {},
   "outputs": [
    {
     "data": {
      "text/html": [
       "<div>\n",
       "<style scoped>\n",
       "    .dataframe tbody tr th:only-of-type {\n",
       "        vertical-align: middle;\n",
       "    }\n",
       "\n",
       "    .dataframe tbody tr th {\n",
       "        vertical-align: top;\n",
       "    }\n",
       "\n",
       "    .dataframe thead th {\n",
       "        text-align: right;\n",
       "    }\n",
       "</style>\n",
       "<table border=\"1\" class=\"dataframe\">\n",
       "  <thead>\n",
       "    <tr style=\"text-align: right;\">\n",
       "      <th></th>\n",
       "      <th>id</th>\n",
       "      <th>sentiment</th>\n",
       "      <th>md5</th>\n",
       "      <th>list</th>\n",
       "      <th>text</th>\n",
       "    </tr>\n",
       "  </thead>\n",
       "  <tbody>\n",
       "    <tr>\n",
       "      <th>2</th>\n",
       "      <td>367189542857482240</td>\n",
       "      <td>neutral</td>\n",
       "      <td>c020aa23ff1f8ff985ce489b2b678674</td>\n",
       "      <td>[]</td>\n",
       "      <td>Tainted Talents (Ateliertagebuch.) » Wir sind ...</td>\n",
       "    </tr>\n",
       "    <tr>\n",
       "      <th>3</th>\n",
       "      <td>368327046574776321</td>\n",
       "      <td>neutral</td>\n",
       "      <td>0096b66e311fffcca65c23d2a310083b</td>\n",
       "      <td>[]</td>\n",
       "      <td>Aber wenigstens kommt #Supernatural heute mal ...</td>\n",
       "    </tr>\n",
       "    <tr>\n",
       "      <th>5</th>\n",
       "      <td>368309870673793024</td>\n",
       "      <td>neutral</td>\n",
       "      <td>575fd73efa41e07e2b0c360a721d19d7</td>\n",
       "      <td>[]</td>\n",
       "      <td>DARLEHEN - Angebot für Schufa-freie Darlehen: ...</td>\n",
       "    </tr>\n",
       "    <tr>\n",
       "      <th>6</th>\n",
       "      <td>362896018389475328</td>\n",
       "      <td>neutral</td>\n",
       "      <td>8b824c765a7642a980b9e14c02830126</td>\n",
       "      <td>[]</td>\n",
       "      <td>ANRUF ERWÜNSCHT: Hardcore Teeny Vicky Carrera:...</td>\n",
       "    </tr>\n",
       "    <tr>\n",
       "      <th>7</th>\n",
       "      <td>367912309303148545</td>\n",
       "      <td>neutral</td>\n",
       "      <td>a07f6bc77b0cfb06a75c7cb1a88d752b</td>\n",
       "      <td>[]</td>\n",
       "      <td>Na? Wo sind Frankens heimliche Talente? - Die ...</td>\n",
       "    </tr>\n",
       "    <tr>\n",
       "      <th>...</th>\n",
       "      <td>...</td>\n",
       "      <td>...</td>\n",
       "      <td>...</td>\n",
       "      <td>...</td>\n",
       "      <td>...</td>\n",
       "    </tr>\n",
       "    <tr>\n",
       "      <th>9930</th>\n",
       "      <td>389730420356427776</td>\n",
       "      <td>neutral</td>\n",
       "      <td>487bb8fdeddd340744ecad712e80dc8f</td>\n",
       "      <td>[]</td>\n",
       "      <td>Wirtschaftsminister Mitterlehner zeichnet café...</td>\n",
       "    </tr>\n",
       "    <tr>\n",
       "      <th>9931</th>\n",
       "      <td>365216013760991234</td>\n",
       "      <td>neutral</td>\n",
       "      <td>0412287b1ec1aa17992690bc932e01b7</td>\n",
       "      <td>[]</td>\n",
       "      <td>CL-Qualifikation: Zenit mit Kantersieg, Austri...</td>\n",
       "    </tr>\n",
       "    <tr>\n",
       "      <th>9933</th>\n",
       "      <td>373714852122202112</td>\n",
       "      <td>negative</td>\n",
       "      <td>d0c4b34c6db04a64d074d2e46c57df62</td>\n",
       "      <td>[]</td>\n",
       "      <td>@AstridSchiebs Okay. @DerAtrox Machse einfach!...</td>\n",
       "    </tr>\n",
       "    <tr>\n",
       "      <th>9934</th>\n",
       "      <td>376593709280034816</td>\n",
       "      <td>neutral</td>\n",
       "      <td>f3a201478826ba5b73ee0d70022a90a7</td>\n",
       "      <td>[]</td>\n",
       "      <td>Öffentliche Pfeifturmbegehung Führung um 11:30...</td>\n",
       "    </tr>\n",
       "    <tr>\n",
       "      <th>9936</th>\n",
       "      <td>364054346767405056</td>\n",
       "      <td>positive</td>\n",
       "      <td>6b0352b5c96a7002897d5af3eb9a1c6f</td>\n",
       "      <td>[]</td>\n",
       "      <td>@FrauFlauschig Ich mag ihn auch echt gerne, ha...</td>\n",
       "    </tr>\n",
       "  </tbody>\n",
       "</table>\n",
       "<p>6758 rows × 5 columns</p>\n",
       "</div>"
      ],
      "text/plain": [
       "                      id sentiment                               md5 list  \\\n",
       "2     367189542857482240   neutral  c020aa23ff1f8ff985ce489b2b678674   []   \n",
       "3     368327046574776321   neutral  0096b66e311fffcca65c23d2a310083b   []   \n",
       "5     368309870673793024   neutral  575fd73efa41e07e2b0c360a721d19d7   []   \n",
       "6     362896018389475328   neutral  8b824c765a7642a980b9e14c02830126   []   \n",
       "7     367912309303148545   neutral  a07f6bc77b0cfb06a75c7cb1a88d752b   []   \n",
       "...                  ...       ...                               ...  ...   \n",
       "9930  389730420356427776   neutral  487bb8fdeddd340744ecad712e80dc8f   []   \n",
       "9931  365216013760991234   neutral  0412287b1ec1aa17992690bc932e01b7   []   \n",
       "9933  373714852122202112  negative  d0c4b34c6db04a64d074d2e46c57df62   []   \n",
       "9934  376593709280034816   neutral  f3a201478826ba5b73ee0d70022a90a7   []   \n",
       "9936  364054346767405056  positive  6b0352b5c96a7002897d5af3eb9a1c6f   []   \n",
       "\n",
       "                                                   text  \n",
       "2     Tainted Talents (Ateliertagebuch.) » Wir sind ...  \n",
       "3     Aber wenigstens kommt #Supernatural heute mal ...  \n",
       "5     DARLEHEN - Angebot für Schufa-freie Darlehen: ...  \n",
       "6     ANRUF ERWÜNSCHT: Hardcore Teeny Vicky Carrera:...  \n",
       "7     Na? Wo sind Frankens heimliche Talente? - Die ...  \n",
       "...                                                 ...  \n",
       "9930  Wirtschaftsminister Mitterlehner zeichnet café...  \n",
       "9931  CL-Qualifikation: Zenit mit Kantersieg, Austri...  \n",
       "9933  @AstridSchiebs Okay. @DerAtrox Machse einfach!...  \n",
       "9934  Öffentliche Pfeifturmbegehung Führung um 11:30...  \n",
       "9936  @FrauFlauschig Ich mag ihn auch echt gerne, ha...  \n",
       "\n",
       "[6758 rows x 5 columns]"
      ]
     },
     "execution_count": 5,
     "metadata": {},
     "output_type": "execute_result"
    }
   ],
   "source": [
    "tweets"
   ]
  },
  {
   "cell_type": "markdown",
   "metadata": {},
   "source": [
    "The columns we are most interested in are \"text\" and \"sentiment\". Use pandas' `groupby()` method in combination with `count()` to get a first notion about the distribution of our labels. \n",
    "\n",
    "Drop the rest of the columns to retain a dataframe with the two columns \"text\" and \"sentiment\".\n",
    "\n",
    "Use the pandas function `str.replace()` to get rid of [twitter handles](https://www.urbandictionary.com/define.php?term=twitter%20handle) (hint: use regular expressions with `r'my_regex'` as the first argument `in str.replace()`).\n",
    "\n",
    "**Advanced**\n",
    "- Get rid of links. \n",
    "- Inspect the rest of the columns and keep some if they might contain information relevant to our prediction at a later stage."
   ]
  },
  {
   "cell_type": "code",
   "execution_count": 6,
   "metadata": {},
   "outputs": [
    {
     "data": {
      "text/plain": [
       "sentiment\n",
       "negative    1001\n",
       "neutral     4211\n",
       "positive    1546\n",
       "Name: sentiment, dtype: int64"
      ]
     },
     "execution_count": 6,
     "metadata": {},
     "output_type": "execute_result"
    }
   ],
   "source": [
    "tweets.groupby(['sentiment'])['sentiment'].count()"
   ]
  },
  {
   "cell_type": "code",
   "execution_count": 7,
   "metadata": {},
   "outputs": [],
   "source": [
    "tweets = tweets.drop(['id', 'md5', 'list'], axis=1)"
   ]
  },
  {
   "cell_type": "code",
   "execution_count": 8,
   "metadata": {},
   "outputs": [
    {
     "name": "stderr",
     "output_type": "stream",
     "text": [
      "c:\\Projects-G15\\abticket\\coding-assessment-full-stack\\.venv\\lib\\site-packages\\ipykernel_launcher.py:2: FutureWarning: The default value of regex will change from True to False in a future version.\n",
      "  \n",
      "c:\\Projects-G15\\abticket\\coding-assessment-full-stack\\.venv\\lib\\site-packages\\ipykernel_launcher.py:4: FutureWarning: The default value of regex will change from True to False in a future version.\n",
      "  after removing the cwd from sys.path.\n"
     ]
    }
   ],
   "source": [
    "#  remove twitter handles\n",
    "tweets['text'] = tweets['text'].str.replace(r\"(?<![\\w.-])@[A-Za-z][\\w-]+\", \"\")\n",
    "# url removal\n",
    "tweets['text'] = tweets['text'].str.replace(r\"https?:\\/\\/.*[\\r\\n]*\", \"\")\n",
    "\n",
    "tweets['text'] = tweets['text'].str.strip()\n",
    "\n",
    "\n",
    "# There are empty texts that need removing\n",
    "tweets['text'].replace(\"\", pd.NA, inplace=True)\n",
    "\n",
    "tweets = tweets.dropna()\n",
    "# maybe some of the columns have unique number? could be used to identify duplicates? retweets might introduce duplicate data and bias"
   ]
  },
  {
   "cell_type": "code",
   "execution_count": 9,
   "metadata": {},
   "outputs": [
    {
     "data": {
      "text/plain": [
       "2       Tainted Talents (Ateliertagebuch.) » Wir sind ...\n",
       "3       Aber wenigstens kommt #Supernatural heute mal ...\n",
       "5       DARLEHEN - Angebot für Schufa-freie Darlehen: ...\n",
       "6       ANRUF ERWÜNSCHT: Hardcore Teeny Vicky Carrera:...\n",
       "7       Na? Wo sind Frankens heimliche Talente? - Die ...\n",
       "                              ...                        \n",
       "9930    Wirtschaftsminister Mitterlehner zeichnet café...\n",
       "9931    CL-Qualifikation: Zenit mit Kantersieg, Austri...\n",
       "9933                           Okay.  Machse einfach! EU.\n",
       "9934    Öffentliche Pfeifturmbegehung Führung um 11:30...\n",
       "9936     Ich mag ihn auch echt gerne, haste fein gemacht!\n",
       "Name: text, Length: 6727, dtype: object"
      ]
     },
     "execution_count": 9,
     "metadata": {},
     "output_type": "execute_result"
    }
   ],
   "source": [
    "tweets['text']"
   ]
  },
  {
   "cell_type": "markdown",
   "metadata": {},
   "source": [
    "## create single string to count word frequencies\n",
    "\n",
    "In order to visualize word frequencies, we will concatenate all messages to create one long string containing all words present in these messages. \n",
    "\n",
    "Use `str.cat()` with `sep=' '` on the column 'text' to create one string containing all messages."
   ]
  },
  {
   "cell_type": "code",
   "execution_count": 10,
   "metadata": {},
   "outputs": [],
   "source": [
    "merged_tweets = tweets['text'].str.cat(sep=\" \")"
   ]
  },
  {
   "cell_type": "code",
   "execution_count": 11,
   "metadata": {},
   "outputs": [
    {
     "name": "stderr",
     "output_type": "stream",
     "text": [
      "[nltk_data] Downloading package punkt to\n",
      "[nltk_data]     C:\\Users\\drago\\AppData\\Roaming\\nltk_data...\n",
      "[nltk_data]   Package punkt is already up-to-date!\n"
     ]
    },
    {
     "data": {
      "text/plain": [
       "True"
      ]
     },
     "execution_count": 11,
     "metadata": {},
     "output_type": "execute_result"
    }
   ],
   "source": [
    "nltk.download('punkt')"
   ]
  },
  {
   "cell_type": "markdown",
   "metadata": {},
   "source": [
    "Pass merged_tweets to the `nltk` method `word_tokenize()` to create a list of tokens."
   ]
  },
  {
   "cell_type": "code",
   "execution_count": 12,
   "metadata": {},
   "outputs": [],
   "source": [
    "merged_tweets_tokens = nltk.word_tokenize(merged_tweets, language='german')"
   ]
  },
  {
   "cell_type": "markdown",
   "metadata": {},
   "source": [
    "We will use matplotlib to plot token frequencies. Set the matplotlib figure size to `(15, 8)` in order to create a larger plot area. \n",
    "Pass `merged_tweets_tokens` to `nltk.FreqDist()`, save the result as `fd` and call `fd.plot()` with `(50,cumulative=False)`."
   ]
  },
  {
   "cell_type": "code",
   "execution_count": 13,
   "metadata": {},
   "outputs": [
    {
     "data": {
      "image/png": "[encoded data removed]",
      "text/plain": [
       "<Figure size 1500x800 with 1 Axes>"
      ]
     },
     "metadata": {},
     "output_type": "display_data"
    },
    {
     "data": {
      "text/plain": [
       "<AxesSubplot:xlabel='Samples', ylabel='Counts'>"
      ]
     },
     "execution_count": 13,
     "metadata": {},
     "output_type": "execute_result"
    }
   ],
   "source": [
    "# plot token frequencies\n",
    "plt.figure(figsize=(15, 8))  \n",
    "\n",
    "\n",
    "fd = nltk.FreqDist(merged_tweets_tokens)\n",
    "fd.plot(50, cumulative=False)"
   ]
  },
  {
   "cell_type": "markdown",
   "metadata": {},
   "source": [
    "## save data"
   ]
  },
  {
   "cell_type": "markdown",
   "metadata": {},
   "source": [
    "Use the pandas `to_csv()` method to save your dataframe as a .csv file. Name it \"training_data_tweets.csv\", set `encoding='utf-8'`, use `quoting=csv.QUOTE_ALL`, `header=False` and `index=False`."
   ]
  },
  {
   "cell_type": "code",
   "execution_count": 14,
   "metadata": {},
   "outputs": [],
   "source": [
    "# save the dataframe in a format you can easily import in the following notebook\n",
    "tweets.to_csv(\"../message_classification/data/training_data_tweets.csv\", \n",
    "                encoding=\"utf-8\", \n",
    "                quoting=csv.QUOTE_ALL,\n",
    "                header=False,\n",
    "                index=False)"
   ]
  }
 ],
 "metadata": {
  "kernelspec": {
   "display_name": ".venv",
   "language": "python",
   "name": "python3"
  },
  "language_info": {
   "codemirror_mode": {
    "name": "ipython",
    "version": 3
   },
   "file_extension": ".py",
   "mimetype": "text/x-python",
   "name": "python",
   "nbconvert_exporter": "python",
   "pygments_lexer": "ipython3",
   "version": "3.7.2"
  },
  "vscode": {
   "interpreter": {
    "hash": "0bfbf03d7f302245dac2c3292acddcbd265d23188018811825d9bb86f007ec1d"
   }
  }
 },
 "nbformat": 4,
 "nbformat_minor": 2
}
