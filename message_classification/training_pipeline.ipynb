{
 "cells": [
  {
   "cell_type": "markdown",
   "metadata": {},
   "source": [
    "## import necessary libraries\n",
    "\n",
    "Import `pandas as pd`, `numpy as np` and `seaborn as sns`\n",
    "Furthermore, import `Pipeline` from `sklearn.pipeline`, `RandomForestClassifier` from `sklearn.ensemble` and `train_test_split` from `sklearn.model_selection`.\n",
    "\n",
    "Import `accuracy_score`, `f1_score`, `precision_score`, `hamming_loss` and `confusion_matrix` from `sklearn.metrics`. \n",
    "\n",
    "Finally, import `CountVectorizer` and `TfidfTransformer` from `sklearn.feature_extraction.text` and `pplot_cm` from `conf_matrix` (this script should be in your local repo) and `matplotlib.pyplot` as `plt`.\n"
   ]
  },
  {
   "cell_type": "code",
   "execution_count": 1,
   "metadata": {},
   "outputs": [],
   "source": [
    "import pandas as pd\n",
    "import numpy as np\n",
    "import seaborn as sns\n",
    "from sklearn.ensemble import RandomForestClassifier\n",
    "from sklearn.model_selection import train_test_split \n",
    "from sklearn.pipeline import Pipeline\n",
    "from sklearn.metrics import accuracy_score, f1_score, precision_score, hamming_loss, confusion_matrix\n",
    "from sklearn.feature_extraction.text import CountVectorizer, TfidfTransformer\n",
    "from conf_matrix import pplot_cm\n",
    "import matplotlib.pyplot as plt"
   ]
  },
  {
   "cell_type": "markdown",
   "metadata": {},
   "source": [
    "## load data\n",
    "\n",
    "Load your previously saved csv dataframe using pandas' `read_csv()`."
   ]
  },
  {
   "cell_type": "code",
   "execution_count": 2,
   "metadata": {},
   "outputs": [],
   "source": [
    "\n",
    "data = pd.read_csv(\"../message_classification/data/training_data_tweets.csv\")\n",
    "data.columns = ['sentiment', 'message']"
   ]
  },
  {
   "cell_type": "code",
   "execution_count": 3,
   "metadata": {},
   "outputs": [
    {
     "data": {
      "text/html": [
       "<div>\n",
       "<style scoped>\n",
       "    .dataframe tbody tr th:only-of-type {\n",
       "        vertical-align: middle;\n",
       "    }\n",
       "\n",
       "    .dataframe tbody tr th {\n",
       "        vertical-align: top;\n",
       "    }\n",
       "\n",
       "    .dataframe thead th {\n",
       "        text-align: right;\n",
       "    }\n",
       "</style>\n",
       "<table border=\"1\" class=\"dataframe\">\n",
       "  <thead>\n",
       "    <tr style=\"text-align: right;\">\n",
       "      <th></th>\n",
       "      <th>sentiment</th>\n",
       "      <th>message</th>\n",
       "    </tr>\n",
       "  </thead>\n",
       "  <tbody>\n",
       "    <tr>\n",
       "      <th>0</th>\n",
       "      <td>neutral</td>\n",
       "      <td>Aber wenigstens kommt #Supernatural heute mal ...</td>\n",
       "    </tr>\n",
       "    <tr>\n",
       "      <th>1</th>\n",
       "      <td>neutral</td>\n",
       "      <td>DARLEHEN - Angebot für Schufa-freie Darlehen: ...</td>\n",
       "    </tr>\n",
       "    <tr>\n",
       "      <th>2</th>\n",
       "      <td>neutral</td>\n",
       "      <td>ANRUF ERWÜNSCHT: Hardcore Teeny Vicky Carrera:...</td>\n",
       "    </tr>\n",
       "    <tr>\n",
       "      <th>3</th>\n",
       "      <td>neutral</td>\n",
       "      <td>Na? Wo sind Frankens heimliche Talente? - Die ...</td>\n",
       "    </tr>\n",
       "    <tr>\n",
       "      <th>4</th>\n",
       "      <td>positive</td>\n",
       "      <td>... Glück breitet sich aus ...</td>\n",
       "    </tr>\n",
       "    <tr>\n",
       "      <th>...</th>\n",
       "      <td>...</td>\n",
       "      <td>...</td>\n",
       "    </tr>\n",
       "    <tr>\n",
       "      <th>6721</th>\n",
       "      <td>neutral</td>\n",
       "      <td>Wirtschaftsminister Mitterlehner zeichnet café...</td>\n",
       "    </tr>\n",
       "    <tr>\n",
       "      <th>6722</th>\n",
       "      <td>neutral</td>\n",
       "      <td>CL-Qualifikation: Zenit mit Kantersieg, Austri...</td>\n",
       "    </tr>\n",
       "    <tr>\n",
       "      <th>6723</th>\n",
       "      <td>negative</td>\n",
       "      <td>Okay.  Machse einfach! EU.</td>\n",
       "    </tr>\n",
       "    <tr>\n",
       "      <th>6724</th>\n",
       "      <td>neutral</td>\n",
       "      <td>Öffentliche Pfeifturmbegehung Führung um 11:30...</td>\n",
       "    </tr>\n",
       "    <tr>\n",
       "      <th>6725</th>\n",
       "      <td>positive</td>\n",
       "      <td>Ich mag ihn auch echt gerne, haste fein gemacht!</td>\n",
       "    </tr>\n",
       "  </tbody>\n",
       "</table>\n",
       "<p>6726 rows × 2 columns</p>\n",
       "</div>"
      ],
      "text/plain": [
       "     sentiment                                            message\n",
       "0      neutral  Aber wenigstens kommt #Supernatural heute mal ...\n",
       "1      neutral  DARLEHEN - Angebot für Schufa-freie Darlehen: ...\n",
       "2      neutral  ANRUF ERWÜNSCHT: Hardcore Teeny Vicky Carrera:...\n",
       "3      neutral  Na? Wo sind Frankens heimliche Talente? - Die ...\n",
       "4     positive                     ... Glück breitet sich aus ...\n",
       "...        ...                                                ...\n",
       "6721   neutral  Wirtschaftsminister Mitterlehner zeichnet café...\n",
       "6722   neutral  CL-Qualifikation: Zenit mit Kantersieg, Austri...\n",
       "6723  negative                         Okay.  Machse einfach! EU.\n",
       "6724   neutral  Öffentliche Pfeifturmbegehung Führung um 11:30...\n",
       "6725  positive   Ich mag ihn auch echt gerne, haste fein gemacht!\n",
       "\n",
       "[6726 rows x 2 columns]"
      ]
     },
     "execution_count": 3,
     "metadata": {},
     "output_type": "execute_result"
    }
   ],
   "source": [
    "data"
   ]
  },
  {
   "cell_type": "code",
   "execution_count": 4,
   "metadata": {},
   "outputs": [
    {
     "data": {
      "text/html": [
       "<div>\n",
       "<style scoped>\n",
       "    .dataframe tbody tr th:only-of-type {\n",
       "        vertical-align: middle;\n",
       "    }\n",
       "\n",
       "    .dataframe tbody tr th {\n",
       "        vertical-align: top;\n",
       "    }\n",
       "\n",
       "    .dataframe thead th {\n",
       "        text-align: right;\n",
       "    }\n",
       "</style>\n",
       "<table border=\"1\" class=\"dataframe\">\n",
       "  <thead>\n",
       "    <tr style=\"text-align: right;\">\n",
       "      <th></th>\n",
       "      <th>sentiment</th>\n",
       "      <th>message</th>\n",
       "    </tr>\n",
       "  </thead>\n",
       "  <tbody>\n",
       "    <tr>\n",
       "      <th>0</th>\n",
       "      <td>neutral</td>\n",
       "      <td>Aber wenigstens kommt #Supernatural heute mal ...</td>\n",
       "    </tr>\n",
       "    <tr>\n",
       "      <th>1</th>\n",
       "      <td>neutral</td>\n",
       "      <td>DARLEHEN - Angebot für Schufa-freie Darlehen: ...</td>\n",
       "    </tr>\n",
       "    <tr>\n",
       "      <th>2</th>\n",
       "      <td>neutral</td>\n",
       "      <td>ANRUF ERWÜNSCHT: Hardcore Teeny Vicky Carrera:...</td>\n",
       "    </tr>\n",
       "    <tr>\n",
       "      <th>3</th>\n",
       "      <td>neutral</td>\n",
       "      <td>Na? Wo sind Frankens heimliche Talente? - Die ...</td>\n",
       "    </tr>\n",
       "    <tr>\n",
       "      <th>4</th>\n",
       "      <td>positive</td>\n",
       "      <td>... Glück breitet sich aus ...</td>\n",
       "    </tr>\n",
       "    <tr>\n",
       "      <th>...</th>\n",
       "      <td>...</td>\n",
       "      <td>...</td>\n",
       "    </tr>\n",
       "    <tr>\n",
       "      <th>6721</th>\n",
       "      <td>neutral</td>\n",
       "      <td>Wirtschaftsminister Mitterlehner zeichnet café...</td>\n",
       "    </tr>\n",
       "    <tr>\n",
       "      <th>6722</th>\n",
       "      <td>neutral</td>\n",
       "      <td>CL-Qualifikation: Zenit mit Kantersieg, Austri...</td>\n",
       "    </tr>\n",
       "    <tr>\n",
       "      <th>6723</th>\n",
       "      <td>negative</td>\n",
       "      <td>Okay.  Machse einfach! EU.</td>\n",
       "    </tr>\n",
       "    <tr>\n",
       "      <th>6724</th>\n",
       "      <td>neutral</td>\n",
       "      <td>Öffentliche Pfeifturmbegehung Führung um 11:30...</td>\n",
       "    </tr>\n",
       "    <tr>\n",
       "      <th>6725</th>\n",
       "      <td>positive</td>\n",
       "      <td>Ich mag ihn auch echt gerne, haste fein gemacht!</td>\n",
       "    </tr>\n",
       "  </tbody>\n",
       "</table>\n",
       "<p>6726 rows × 2 columns</p>\n",
       "</div>"
      ],
      "text/plain": [
       "     sentiment                                            message\n",
       "0      neutral  Aber wenigstens kommt #Supernatural heute mal ...\n",
       "1      neutral  DARLEHEN - Angebot für Schufa-freie Darlehen: ...\n",
       "2      neutral  ANRUF ERWÜNSCHT: Hardcore Teeny Vicky Carrera:...\n",
       "3      neutral  Na? Wo sind Frankens heimliche Talente? - Die ...\n",
       "4     positive                     ... Glück breitet sich aus ...\n",
       "...        ...                                                ...\n",
       "6721   neutral  Wirtschaftsminister Mitterlehner zeichnet café...\n",
       "6722   neutral  CL-Qualifikation: Zenit mit Kantersieg, Austri...\n",
       "6723  negative                         Okay.  Machse einfach! EU.\n",
       "6724   neutral  Öffentliche Pfeifturmbegehung Führung um 11:30...\n",
       "6725  positive   Ich mag ihn auch echt gerne, haste fein gemacht!\n",
       "\n",
       "[6726 rows x 2 columns]"
      ]
     },
     "execution_count": 4,
     "metadata": {},
     "output_type": "execute_result"
    }
   ],
   "source": [
    "data"
   ]
  },
  {
   "cell_type": "markdown",
   "metadata": {},
   "source": [
    "## plot label frequencies"
   ]
  },
  {
   "cell_type": "markdown",
   "metadata": {},
   "source": [
    "Set the seaborn color palette to \"deep\" using `sns.set()`.\n",
    "Then, plot the label frequencies using `sns.countplot()` on the column \"sentiment\" (or what ever you have called it)."
   ]
  },
  {
   "cell_type": "code",
   "execution_count": 5,
   "metadata": {},
   "outputs": [
    {
     "data": {
      "image/png": "[encoded data removed]",
      "text/plain": [
       "<Figure size 640x480 with 1 Axes>"
      ]
     },
     "metadata": {},
     "output_type": "display_data"
    }
   ],
   "source": [
    "sns.set(palette=\"deep\")\n",
    "sns.countplot(data = data, x=\"sentiment\")\n",
    "plt.show()"
   ]
  },
  {
   "cell_type": "markdown",
   "metadata": {},
   "source": [
    "## load stopwords\n",
    "\n",
    "Use stop words to remove less-meaningful words. The logic of removing stop words has to do with the fact that these words don't carry a lot of meaning, and they appear a lot in most text. We have provided you with a list of common German stopwords ('data/stopwords_german.txt'). Import the packages `io` and `unidecode` first, then use `io.open()` and `readlines()` to save the words contained in the .txt file to a list. \n",
    "\n",
    "Call the python string function `strip()` to remove newline characters (`\\n`) and unidecode's `unidecode()` on every element in the resulting list."
   ]
  },
  {
   "cell_type": "code",
   "execution_count": 6,
   "metadata": {},
   "outputs": [],
   "source": [
    "# you can also add your own stopwords in this step using append()\n",
    "import io, unidecode\n",
    "\n",
    "stopwords = []\n",
    "reader = io.open(\"../message_classification/data/stopwords_german.txt\")\n",
    "with io.open(\"../message_classification/data/stopwords_german.txt\") as f:\n",
    "    stopwords = [unidecode.unidecode(line.strip()) for line in f]"
   ]
  },
  {
   "cell_type": "markdown",
   "metadata": {},
   "source": [
    "## split data for training\n",
    "\n",
    "To train and evaluate the model, we split the data into a training set and a test set using `train_test_split()`, the arguments  being the text column, the label/sentiment column, a test set size (`test_size=0.1` for 10%, `test_size=0.3` for 30%, etc.) and a integer of your choice as random_state.\n",
    "\n",
    "You can then call `.shape` on the resulting sets to see their dimensions."
   ]
  },
  {
   "cell_type": "code",
   "execution_count": 14,
   "metadata": {},
   "outputs": [],
   "source": [
    "X_train, X_test, y_train, y_test = train_test_split(data['message'], data['sentiment'], test_size=0.2, random_state=5)"
   ]
  },
  {
   "cell_type": "markdown",
   "metadata": {},
   "source": [
    "## set up ML pipeline\n",
    "\n",
    "Instantiate a pipeline by adding 3 steps: a `CountVectorizer()` `'vect'`, a `TfidfTransformer()` `'tfidf'` and a `RandomForestClassifier()` `'rf'`.\n",
    "\n",
    "The [Countvectorizer](https://scikit-learn.org/stable/modules/generated/sklearn.feature_extraction.text.CountVectorizer.html) helps us to create numerical values from text by counting the inherent tokens. Pass `analyzer='word'`, `strip_accents='unicode'` and `lowercase=True`. Pass your list of stopwords as `stop_words`.\n",
    "\n",
    "The arguments for the `TfidfTransformer` are `use_idf=True` and `smooth_idf=True`.\n",
    "\n",
    "Fit your pipeline to the training data by calling `fit()` on the pipeline object and passing the training texts and training labels."
   ]
  },
  {
   "cell_type": "code",
   "execution_count": 9,
   "metadata": {},
   "outputs": [],
   "source": [
    "pipeline = Pipeline([\n",
    "    (\n",
    "        'vect',\n",
    "        CountVectorizer(analyzer='word', strip_accents='unicode', lowercase=True, stop_words=stopwords)\n",
    "    ),\n",
    "    (\n",
    "        'tfidf',\n",
    "        TfidfTransformer(use_idf=True, smooth_idf=True)\n",
    "    ),\n",
    "    (\n",
    "        'rf',\n",
    "        RandomForestClassifier()\n",
    "    )\n",
    "])"
   ]
  },
  {
   "cell_type": "code",
   "execution_count": 15,
   "metadata": {},
   "outputs": [
    {
     "data": {
      "text/plain": [
       "Pipeline(steps=[('vect',\n",
       "                 CountVectorizer(stop_words=['a', 'ab', 'aber', 'ach', 'acht',\n",
       "                                             'achte', 'achten', 'achter',\n",
       "                                             'achtes', 'ag', 'alle', 'allein',\n",
       "                                             'allem', 'allen', 'aller',\n",
       "                                             'allerdings', 'alles',\n",
       "                                             'allgemeinen', 'als', 'also', 'am',\n",
       "                                             'an', 'ander', 'andere', 'anderem',\n",
       "                                             'anderen', 'anderer', 'anderes',\n",
       "                                             'anderm', 'andern', ...],\n",
       "                                 strip_accents='unicode')),\n",
       "                ('tfidf', TfidfTransformer()),\n",
       "                ('rf', RandomForestClassifier())])"
      ]
     },
     "execution_count": 15,
     "metadata": {},
     "output_type": "execute_result"
    }
   ],
   "source": [
    "# fit pipeline to training data\n",
    "pipeline.fit(X_train, y_train)"
   ]
  },
  {
   "cell_type": "markdown",
   "metadata": {},
   "source": [
    "## score model\n",
    "\n",
    "We have provided you with a function to score your model using the test texts and labels. In case of encoding issues calling `.values.astype('U')` on the texts before passing them to your pipeline might help."
   ]
  },
  {
   "cell_type": "code",
   "execution_count": 16,
   "metadata": {},
   "outputs": [
    {
     "name": "stdout",
     "output_type": "stream",
     "text": [
      "Accuracy: 0.672316384180791\n",
      "F1: 0.6369543894633698\n",
      "Precision: 0.6409269049639756\n",
      "Hamming loss 0.327683615819209\n"
     ]
    }
   ],
   "source": [
    "def score_model(true, pred):\n",
    "    print('Accuracy:', accuracy_score(true, pred))\n",
    "    print('F1:', f1_score(true, pred, average='weighted'))\n",
    "    print('Precision:', precision_score(true, pred, average='weighted'))\n",
    "    print('Hamming loss', hamming_loss(true, pred))\n",
    "\n",
    "\n",
    "y_pred = pipeline.predict(X_test)\n",
    "score_model(y_test, y_pred)"
   ]
  },
  {
   "cell_type": "markdown",
   "metadata": {},
   "source": [
    "## plot confusion matrix\n",
    "\n",
    "To quickly plot a confusion matrix, use the provided function pplot_cm and pass the same arguments as with `score_model()`."
   ]
  },
  {
   "cell_type": "code",
   "execution_count": 12,
   "metadata": {},
   "outputs": [
    {
     "data": {
      "image/png": "[encoded data removed]",
      "text/plain": [
       "<Figure size 640x480 with 2 Axes>"
      ]
     },
     "metadata": {},
     "output_type": "display_data"
    },
    {
     "name": "stdout",
     "output_type": "stream",
     "text": [
      "Accuracy: 0.6716196136701337\n",
      "F1: 0.6429792511457982\n",
      "Precision: 0.642164731918115\n",
      "Hamming loss 0.32838038632986627\n"
     ]
    }
   ],
   "source": [
    "# plot a confucion matrix to visualize true positives, true negatives, ...\n",
    "# https://en.wikipedia.org/wiki/Confusion_matrix\n",
    "pplot_cm(y_test, y_pred)"
   ]
  },
  {
   "cell_type": "markdown",
   "metadata": {},
   "source": [
    "## manual tests\n",
    "\n",
    "Pass the example texts from the repo description to `pipeline.predict()` and play around with new texts to get a feeling for how your model determines a sentiment."
   ]
  },
  {
   "cell_type": "code",
   "execution_count": 13,
   "metadata": {},
   "outputs": [
    {
     "name": "stdout",
     "output_type": "stream",
     "text": [
      "['Bin rundum begeistert. Insbesondere die Musikwiedergabe ist eine tolle Sache.', 'Die Bedienung lässt keine Wünsche übrig und ist kinderleicht. Beste Grüße, Max']\n",
      "['positive' 'positive']\n",
      "['Startet leider nicht mehr. Ich hatte den Echo leider nur ca. 3 Stunden einwandfrei in Betrieb, danach ging er leider nicht mehr.', 'Kann mir vl jemand sagen wie ich ihn wieder zum Laufen bringe oder ob er einfach nur kaputt ist?']\n",
      "['negative' 'neutral']\n",
      "['Gut, aber im Alltag noch nicht ausgereift. Amazon Echo ist eine praktische Sache allerdings', 'wenn man kein Smart-Home hat ist der Einsatzbereich begrenzt.']\n",
      "['neutral' 'neutral']\n"
     ]
    }
   ],
   "source": [
    "# use your pipeline to create class predictions for the three example texts given in the readme\n",
    "\n",
    "example1 = [\"Bin rundum begeistert. Insbesondere die Musikwiedergabe ist eine tolle Sache.\", \n",
    "            \"Die Bedienung lässt keine Wünsche übrig und ist kinderleicht. Beste Grüße, Max\"]\n",
    "\n",
    "example2 = [\"Startet leider nicht mehr. Ich hatte den Echo leider nur ca. 3 Stunden einwandfrei in Betrieb, danach ging er leider nicht mehr.\", \n",
    "            \"Kann mir vl jemand sagen wie ich ihn wieder zum Laufen bringe oder ob er einfach nur kaputt ist?\"]\n",
    "\n",
    "example3 = [\"Gut, aber im Alltag noch nicht ausgereift. Amazon Echo ist eine praktische Sache allerdings\",\n",
    "            \"wenn man kein Smart-Home hat ist der Einsatzbereich begrenzt.\"]\n",
    "\n",
    "ex1_pd = pd.DataFrame(example1, columns=[\"message\"])\n",
    "ex2_pd = pd.DataFrame(example2, columns=[\"message\"])\n",
    "ex3_pd = pd.DataFrame(example3, columns=[\"message\"])\n",
    "print(example1)\n",
    "print(pipeline.predict(ex1_pd['message']))\n",
    "print(example2)\n",
    "print(pipeline.predict(ex2_pd['message']))\n",
    "print(example3)\n",
    "print(pipeline.predict(ex3_pd['message']))"
   ]
  }
 ],
 "metadata": {
  "kernelspec": {
   "display_name": ".venv",
   "language": "python",
   "name": "python3"
  },
  "language_info": {
   "codemirror_mode": {
    "name": "ipython",
    "version": 3
   },
   "file_extension": ".py",
   "mimetype": "text/x-python",
   "name": "python",
   "nbconvert_exporter": "python",
   "pygments_lexer": "ipython3",
   "version": "3.7.2"
  },
  "vscode": {
   "interpreter": {
    "hash": "0bfbf03d7f302245dac2c3292acddcbd265d23188018811825d9bb86f007ec1d"
   }
  }
 },
 "nbformat": 4,
 "nbformat_minor": 2
}
